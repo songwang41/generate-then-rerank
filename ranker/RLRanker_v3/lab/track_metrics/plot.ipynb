{
 "cells": [
  {
   "cell_type": "code",
   "execution_count": 1,
   "metadata": {},
   "outputs": [],
   "source": [
    "import json\n",
    "import matplotlib.pyplot as plt"
   ]
  },
  {
   "cell_type": "code",
   "execution_count": 19,
   "metadata": {},
   "outputs": [],
   "source": [
    "with open('v0-top-bottom.json', encoding='utf-8') as f:\n",
    "    results = json.load(f)"
   ]
  },
  {
   "cell_type": "code",
   "execution_count": 20,
   "metadata": {},
   "outputs": [
    {
     "name": "stdout",
     "output_type": "stream",
     "text": [
      "36.7608 38.5355\n",
      "35.3784 41.1831\n",
      "36.7103 40.4447\n",
      "36.75 40.6527\n",
      "36.3086 40.0993\n",
      "36.7185 39.6405\n",
      "37.3088 41.0565\n",
      "37.3687 40.843\n",
      "37.3729 41.1107\n",
      "{'generator_eval_rouge1': 38.0366, 'generator_eval_rouge2': 16.159, 'generator_eval_rougeL': 26.1644, 'generator_eval_rougeLsum': 35.2036, 'generator_eval_loss': 2.103769063949585, 'reranker_eval_rouge1': 40.5197, 'reranker_eval_rouge2': 17.3704, 'reranker_eval_rougeL': 27.3274, 'reranker_eval_rougeLsum': 37.5422, 'reranker_eval_loss': 7.423768043518066, 'eval_runtime': 405.4409, 'eval_samples_per_second': 12.332, 'eval_steps_per_second': 0.772, 'eval_samples': 5000}\n"
     ]
    }
   ],
   "source": [
    "for m in results['eval_metrics']:\n",
    "    print(m['generator_eval_rouge1'], m['reranker_eval_rouge1'])\n",
    "print(results['evaluation_results'])"
   ]
  },
  {
   "cell_type": "code",
   "execution_count": null,
   "metadata": {},
   "outputs": [],
   "source": []
  },
  {
   "cell_type": "code",
   "execution_count": null,
   "metadata": {},
   "outputs": [],
   "source": []
  }
 ],
 "metadata": {
  "interpreter": {
   "hash": "c47a18804e9894a971e01ec6e9a2211741a51cbff5e600c0d34939ee38a8a7f8"
  },
  "kernelspec": {
   "display_name": "Python 3.9.7 ('transformers')",
   "language": "python",
   "name": "python3"
  },
  "language_info": {
   "codemirror_mode": {
    "name": "ipython",
    "version": 3
   },
   "file_extension": ".py",
   "mimetype": "text/x-python",
   "name": "python",
   "nbconvert_exporter": "python",
   "pygments_lexer": "ipython3",
   "version": "3.9.7"
  },
  "orig_nbformat": 4
 },
 "nbformat": 4,
 "nbformat_minor": 2
}
