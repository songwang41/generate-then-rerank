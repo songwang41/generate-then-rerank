{
 "cells": [
  {
   "cell_type": "code",
   "execution_count": 6,
   "metadata": {},
   "outputs": [],
   "source": [
    "import json\n",
    "from rouge_score import rouge_scorer, scoring\n",
    "scorer = rouge_scorer.RougeScorer(rouge_types = [\"rouge1\", \"rouge2\", \"rougeLsum\"], use_stemmer=True)\n",
    "import matplotlib.pyplot as plt\n",
    "\n",
    "import numpy as np\n",
    "import nltk\n",
    "n = 16"
   ]
  },
  {
   "cell_type": "code",
   "execution_count": 3,
   "metadata": {},
   "outputs": [],
   "source": [
    "with open('../../data/cnndm/test_data.json', encoding='utf-8') as f:\n",
    "    test_data = json.load(f)\n",
    "\n",
    "test_targets = []\n",
    "for d in test_data:\n",
    "    test_targets.append(d['target'])\n",
    "\n",
    "with open('../../data/subcnndm/train_data.json', encoding='utf-8') as f:\n",
    "    train_data = json.load(f)\n",
    "\n",
    "train_targets = []\n",
    "for d in train_data:\n",
    "    train_targets.append(d['target'])"
   ]
  },
  {
   "cell_type": "code",
   "execution_count": 8,
   "metadata": {},
   "outputs": [
    {
     "ename": "KeyboardInterrupt",
     "evalue": "",
     "output_type": "error",
     "traceback": [
      "\u001b[1;31m---------------------------------------------------------------------------\u001b[0m",
      "\u001b[1;31mKeyboardInterrupt\u001b[0m                         Traceback (most recent call last)",
      "\u001b[1;32mc:\\Users\\v-wshen\\Desktop\\Mypackages\\projects\\generate-then-rerank-local\\bart-samsum\\bart-universal-generation\\lab\\test_rouge_distribution.ipynb Cell 3'\u001b[0m in \u001b[0;36m<cell line: 17>\u001b[1;34m()\u001b[0m\n\u001b[0;32m     <a href='vscode-notebook-cell:/c%3A/Users/v-wshen/Desktop/Mypackages/projects/generate-then-rerank-local/bart-samsum/bart-universal-generation/lab/test_rouge_distribution.ipynb#ch0000002?line=19'>20</a>\u001b[0m score_this \u001b[39m=\u001b[39m []\n\u001b[0;32m     <a href='vscode-notebook-cell:/c%3A/Users/v-wshen/Desktop/Mypackages/projects/generate-then-rerank-local/bart-samsum/bart-universal-generation/lab/test_rouge_distribution.ipynb#ch0000002?line=20'>21</a>\u001b[0m \u001b[39mfor\u001b[39;00m j,p \u001b[39min\u001b[39;00m \u001b[39menumerate\u001b[39m(ps):\n\u001b[1;32m---> <a href='vscode-notebook-cell:/c%3A/Users/v-wshen/Desktop/Mypackages/projects/generate-then-rerank-local/bart-samsum/bart-universal-generation/lab/test_rouge_distribution.ipynb#ch0000002?line=21'>22</a>\u001b[0m     s \u001b[39m=\u001b[39m scorer\u001b[39m.\u001b[39;49mscore(t, p)\n\u001b[0;32m     <a href='vscode-notebook-cell:/c%3A/Users/v-wshen/Desktop/Mypackages/projects/generate-then-rerank-local/bart-samsum/bart-universal-generation/lab/test_rouge_distribution.ipynb#ch0000002?line=22'>23</a>\u001b[0m     score_this\u001b[39m.\u001b[39mappend(s[\u001b[39m\"\u001b[39m\u001b[39mrouge1\u001b[39m\u001b[39m\"\u001b[39m]\u001b[39m.\u001b[39mfmeasure)\n\u001b[0;32m     <a href='vscode-notebook-cell:/c%3A/Users/v-wshen/Desktop/Mypackages/projects/generate-then-rerank-local/bart-samsum/bart-universal-generation/lab/test_rouge_distribution.ipynb#ch0000002?line=24'>25</a>\u001b[0m scores\u001b[39m.\u001b[39mappend(score_this)\n",
      "File \u001b[1;32mc:\\Users\\v-wshen\\Anaconda3\\envs\\transformers\\lib\\site-packages\\rouge_score\\rouge_scorer.py:108\u001b[0m, in \u001b[0;36mRougeScorer.score\u001b[1;34m(self, target, prediction)\u001b[0m\n\u001b[0;32m    <a href='file:///c%3A/Users/v-wshen/Anaconda3/envs/transformers/lib/site-packages/rouge_score/rouge_scorer.py?line=103'>104</a>\u001b[0m   target_tokens_list \u001b[39m=\u001b[39m [\n\u001b[0;32m    <a href='file:///c%3A/Users/v-wshen/Anaconda3/envs/transformers/lib/site-packages/rouge_score/rouge_scorer.py?line=104'>105</a>\u001b[0m       tokenize\u001b[39m.\u001b[39mtokenize(s, \u001b[39mself\u001b[39m\u001b[39m.\u001b[39m_stemmer) \u001b[39mfor\u001b[39;00m s \u001b[39min\u001b[39;00m get_sents(target)]\n\u001b[0;32m    <a href='file:///c%3A/Users/v-wshen/Anaconda3/envs/transformers/lib/site-packages/rouge_score/rouge_scorer.py?line=105'>106</a>\u001b[0m   prediction_tokens_list \u001b[39m=\u001b[39m [\n\u001b[0;32m    <a href='file:///c%3A/Users/v-wshen/Anaconda3/envs/transformers/lib/site-packages/rouge_score/rouge_scorer.py?line=106'>107</a>\u001b[0m       tokenize\u001b[39m.\u001b[39mtokenize(s, \u001b[39mself\u001b[39m\u001b[39m.\u001b[39m_stemmer) \u001b[39mfor\u001b[39;00m s \u001b[39min\u001b[39;00m get_sents(prediction)]\n\u001b[1;32m--> <a href='file:///c%3A/Users/v-wshen/Anaconda3/envs/transformers/lib/site-packages/rouge_score/rouge_scorer.py?line=107'>108</a>\u001b[0m   scores \u001b[39m=\u001b[39m _summary_level_lcs(target_tokens_list,\n\u001b[0;32m    <a href='file:///c%3A/Users/v-wshen/Anaconda3/envs/transformers/lib/site-packages/rouge_score/rouge_scorer.py?line=108'>109</a>\u001b[0m                               prediction_tokens_list)\n\u001b[0;32m    <a href='file:///c%3A/Users/v-wshen/Anaconda3/envs/transformers/lib/site-packages/rouge_score/rouge_scorer.py?line=109'>110</a>\u001b[0m \u001b[39melif\u001b[39;00m re\u001b[39m.\u001b[39mmatch(\u001b[39mr\u001b[39m\u001b[39m\"\u001b[39m\u001b[39mrouge[0-9]$\u001b[39m\u001b[39m\"\u001b[39m, six\u001b[39m.\u001b[39mensure_str(rouge_type)):\n\u001b[0;32m    <a href='file:///c%3A/Users/v-wshen/Anaconda3/envs/transformers/lib/site-packages/rouge_score/rouge_scorer.py?line=110'>111</a>\u001b[0m   \u001b[39m# Rouge from n-grams.\u001b[39;00m\n\u001b[0;32m    <a href='file:///c%3A/Users/v-wshen/Anaconda3/envs/transformers/lib/site-packages/rouge_score/rouge_scorer.py?line=111'>112</a>\u001b[0m   n \u001b[39m=\u001b[39m \u001b[39mint\u001b[39m(rouge_type[\u001b[39m5\u001b[39m:])\n",
      "File \u001b[1;32mc:\\Users\\v-wshen\\Anaconda3\\envs\\transformers\\lib\\site-packages\\rouge_score\\rouge_scorer.py:231\u001b[0m, in \u001b[0;36m_summary_level_lcs\u001b[1;34m(ref_sent, can_sent)\u001b[0m\n\u001b[0;32m    <a href='file:///c%3A/Users/v-wshen/Anaconda3/envs/transformers/lib/site-packages/rouge_score/rouge_scorer.py?line=225'>226</a>\u001b[0m \u001b[39m# Prevent double-counting:\u001b[39;00m\n\u001b[0;32m    <a href='file:///c%3A/Users/v-wshen/Anaconda3/envs/transformers/lib/site-packages/rouge_score/rouge_scorer.py?line=226'>227</a>\u001b[0m \u001b[39m# The paper describes just computing hits += len(_union_lcs()),\u001b[39;00m\n\u001b[0;32m    <a href='file:///c%3A/Users/v-wshen/Anaconda3/envs/transformers/lib/site-packages/rouge_score/rouge_scorer.py?line=227'>228</a>\u001b[0m \u001b[39m# but the implementation prevents double counting. We also\u001b[39;00m\n\u001b[0;32m    <a href='file:///c%3A/Users/v-wshen/Anaconda3/envs/transformers/lib/site-packages/rouge_score/rouge_scorer.py?line=228'>229</a>\u001b[0m \u001b[39m# implement this as in version 1.5.5.\u001b[39;00m\n\u001b[0;32m    <a href='file:///c%3A/Users/v-wshen/Anaconda3/envs/transformers/lib/site-packages/rouge_score/rouge_scorer.py?line=229'>230</a>\u001b[0m \u001b[39mfor\u001b[39;00m t \u001b[39min\u001b[39;00m lcs:\n\u001b[1;32m--> <a href='file:///c%3A/Users/v-wshen/Anaconda3/envs/transformers/lib/site-packages/rouge_score/rouge_scorer.py?line=230'>231</a>\u001b[0m   \u001b[39mif\u001b[39;00m token_cnts_c[t] \u001b[39m>\u001b[39m \u001b[39m0\u001b[39m \u001b[39mand\u001b[39;00m token_cnts_r[t] \u001b[39m>\u001b[39m \u001b[39m0\u001b[39m:\n\u001b[0;32m    <a href='file:///c%3A/Users/v-wshen/Anaconda3/envs/transformers/lib/site-packages/rouge_score/rouge_scorer.py?line=231'>232</a>\u001b[0m     hits \u001b[39m+\u001b[39m\u001b[39m=\u001b[39m \u001b[39m1\u001b[39m\n\u001b[0;32m    <a href='file:///c%3A/Users/v-wshen/Anaconda3/envs/transformers/lib/site-packages/rouge_score/rouge_scorer.py?line=232'>233</a>\u001b[0m     token_cnts_c[t] \u001b[39m-\u001b[39m\u001b[39m=\u001b[39m \u001b[39m1\u001b[39m\n",
      "\u001b[1;31mKeyboardInterrupt\u001b[0m: "
     ]
    }
   ],
   "source": [
    "pred_dir = \"../results/JGR-large-beamsearch/train/generated_predictions_16.txt\"\n",
    "targets = train_targets\n",
    "\n",
    "preds = []\n",
    "with open(pred_dir,encoding='utf-8') as f:\n",
    "    for line in f.readlines():\n",
    "       preds.append(line.strip())\n",
    "\n",
    "\n",
    "preds = [pred.strip() for pred in preds]\n",
    "targets = [target.strip() for target in targets]\n",
    "\n",
    "preds = [\"\\n\".join(nltk.sent_tokenize(pred)) for pred in preds]\n",
    "targets = [\"\\n\".join(nltk.sent_tokenize(target)) for target in targets]\n",
    "\n",
    "scores = []\n",
    "for i,t in enumerate(targets):\n",
    "    scores = []\n",
    "    ps = preds[i * 16: (i+1)*16]\n",
    "    score_this = []\n",
    "    for j,p in enumerate(ps):\n",
    "        s = scorer.score(t, p)\n",
    "        score_this.append(s[\"rouge1\"].fmeasure)\n",
    "\n",
    "    scores.append(score_this)\n",
    "\n",
    "scores = np.array(scores)\n",
    "\n",
    "min_scores = np.min(scores, axis=1)\n",
    "max_scores = np.max(scores, axis=1)\n",
    "\n",
    "x = np.arange(len(targets))\n",
    "plt.figure(figsize=(10,5))\n",
    "plt.title(\"rouge1\")\n",
    "plt.xlabel(\"return size\")\n",
    "plt.ylabel(\"rouge1\")\n",
    "# plt.plot(x, x_data, label='groundtruth')\n",
    "plt.plot(x, max_scores, label='max')\n",
    "plt.plot(x, min_scores, label='min')\n",
    "plt.legend()\n",
    "plt.ylim(30, 60)\n",
    "# x_ticks = np.arange(41)[::5]\n",
    "# plt.xticks(x_ticks, x_ticks+1)\n",
    "plt.grid()"
   ]
  },
  {
   "cell_type": "code",
   "execution_count": null,
   "metadata": {},
   "outputs": [],
   "source": []
  }
 ],
 "metadata": {
  "interpreter": {
   "hash": "f6902fdc54b712eeb5c3310dbfa8b0110e69402409ff97f92bbf767d9e9171a7"
  },
  "kernelspec": {
   "display_name": "Python 3.9.7 ('transformers')",
   "language": "python",
   "name": "python3"
  },
  "language_info": {
   "codemirror_mode": {
    "name": "ipython",
    "version": 3
   },
   "file_extension": ".py",
   "mimetype": "text/x-python",
   "name": "python",
   "nbconvert_exporter": "python",
   "pygments_lexer": "ipython3",
   "version": "3.9.7"
  },
  "orig_nbformat": 4
 },
 "nbformat": 4,
 "nbformat_minor": 2
}
